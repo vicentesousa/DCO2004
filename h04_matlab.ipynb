{
 "cells": [
  {
   "cell_type": "markdown",
   "metadata": {
    "run_control": {
     "frozen": false,
     "read_only": false
    }
   },
   "source": [
    "# Hands-on 04: Operações importantes com sinais \n",
    "\n",
    "# Objetivos\n",
    "As metas desse tutorial são ajudar o usuário a:\n",
    "- Fazer uma breve revisão sobre processos estocásticos e medidas relacionadas;\n",
    "- Fazer uma breve revisão sobre cálculo de potência e energia de um sinal (seu significado e seu cálculo);\n",
    "- Fazer uma aplicação prática com a autocorrelção (remoção de eco com a autocorrelação)."
   ]
  },
  {
   "cell_type": "markdown",
   "metadata": {},
   "source": [
    "# Sinal e processos estocásticos\n",
    "\n",
    "Processos estocásticos é uma extensão do conceito de variável aleatória, compreendendo o espaço amostral, o conjunto de sinais e as funções densidade de probabilidade associadas.  Uma definição mais objetiva de processos estocásticos é: \n",
    "\n",
    "**Fenômeno que varia em algum grau, de forma imprevisível, à medida que o tempo passa.**\n",
    "\n",
    "Assim, um processo estocástico está inerentemente ligado a observação no tempo de uma variável aleatória. Podemos citar como exemplos de processos estocásticos:   \n",
    "\n",
    "- Variação do tráfego em um cruzamento;\n",
    "- Variação diária no tamanho do estoque de uma empresa;\n",
    "- Variação minuto a minuto do índice IBOVESPA;\n",
    "- Variação no estado de um sistema de potência;\n",
    "- Variação no número de chamadas feitas a uma central telefônica;\n",
    "- Sinais aleatórios em geral que dependem do tempo.\n",
    "\n",
    "Para analisar o processo estocástico é preciso especificar o período de tempo $T$ envolvido quando ele será observado.\n",
    "- Se $T$ é contínuo, $T = \\{t: 0 \\leq t \\leq \\infty \\}$: Trata-se de um Processo Estocástico de Parâmetros\n",
    "Contínuos (e.g. Poisson);\n",
    "- Se $T$ é discreto, $T = \\{0, 1, 2, ...\\}$: Trata-se de um Processo Estocástico de Parâmetros Discretos (e.g Séries Temporais em geral).\n",
    "\n",
    "Além da função densidade de probabilidade (densidade de primeira ordem), um processo estocástico pode ser completamente determinado pelas suas distribuições de ordem $n$. Contudo, em uma grande parcela de aplicações, somente certas médias são usadas, em particular, o valor esperado de $x(t)$ e $x^2(t)$. Essas quantidades podem ser expressas como **propriedades de segunda-ordem de $x(t)$**, definidas como: **Média**, **Autocorrelação** e **Autocovariância**.   "
   ]
  },
  {
   "cell_type": "markdown",
   "metadata": {},
   "source": [
    "# Definições importantes sobre processos estocásticos"
   ]
  },
  {
   "cell_type": "markdown",
   "metadata": {},
   "source": [
    "## Esperança, autocorrelação e autocovariância\n",
    "\n",
    "(Se você esperimentar problemas com a visualização de equações desse notebook, use o NBviewer pelo [link]( http://nbviewer.jupyter.org/github/vicentesousa/DCO2004_2019/blob/master/h04_matlab.ipynb)).\n",
    "\n",
    "A **média** $\\mu(t)$ é definida como o valor esperado (esperança) de $x(t)$ da seguinte forma:\n",
    "\n",
    "$$\\mu(t) = E\\{x(t)\\} = \\int_{-\\infty}^{\\infty}xf(x,t)dx$$\n",
    "\n",
    "sendo $f(x,t)$ a função distribuição de $x(t)$ (sua densidade de primeira-ordem), e $x(t)$ uma variável aleatória contínua.\n",
    "\n",
    "Para uma variável aleatória discreta, temos que \n",
    "\n",
    "$$E\\{x(t)\\} = \\sum_{i}x_ip_i$$\n",
    "\n",
    "sendo $p_i = P\\{ x = x_i\\}$\n",
    "\n",
    "Um caso especial bem conhecido acontece quando as probabilidades $p_i$ são iguais, independente do valor de $i$, e o número de valores observáveis é finito, resultando na média aritmética: \n",
    "\n",
    "$$E\\{x(t)\\} = \\frac{1}{N}\\sum_{i=1}^{N}x_i$$\n",
    "\n",
    "A **autocorrelação** ${R}_{xx}$ de um sinal aleatório descreve a dependência entre valores de amostras em instantes distintos. Ela pode ser usada para encontrar padrões de repetição em tais sinais (não aleatoriedades), por exemplo, identificar uma frequência fundamental, implícita pelas suas frequências harmônicas.  A autocorrelação é uma medida que informa o quanto o valor de uma realização de uma variável aleatória é capaz de influenciar seus vizinhos. Por exemplo, o quanto a existência de um valor mais alto condiciona valores também altos de seus vizinhos.\n",
    "\n",
    "Define-se a autocorrelação de um processo aleatório contínuo (e.g. um sinal de voz), como:\n",
    "\n",
    "$$R(t_1, t_2)= E\\{x(t_1)x(t_2)\\} = \\int{-\\infty}^{\\infty}\\int_{-\\infty}^{\\infty} x_1x_2f(x_1, x_2; t_1, t_2)dx_1dx_2$$\n",
    "\n",
    "Por se tratar da análise de relação entre um sinal e ele mesmo, podemos ter diversas aplicações em telecom, tais como:\n",
    "\n",
    "- Detecção de sinais;\n",
    "- Detecção de atraso em sinais (cancelamento de eco);\n",
    "- Atraso entre sinais recebidos por sensores em posições diferentes;\n",
    "- Detecção de padrões de sinalização conhecidos (e.g. detecção de preâmbulo);\n",
    "- Determinação da frequência e potência de um sinal;\n",
    "- Predição de séries temporais.\n",
    "\n",
    "Como a autocorrelação é uma medida estatística não vinculada a uma área de aplicação específica, trabalhos em outras áreas bem diferentes de telecomunicações podem ser achados em grande quantidade, tais como:\n",
    "\n",
    "- AUTOCORRELAÇÃO ESPACIAL NA ÁREA DE LOJA DE SUPERMERCADOS NOS MUNICÍPIOS PAULISTAS ([link](http://www.scielo.br/pdf/rae/v39n4/v39n4a05));\n",
    "- MODELAGEM DA AUTOCORRELAÇÃO RESIDUAL PELO MÉTODO DOS MÍNIMOS QUADRADOS GENERALIZADOS COM APLICAÇÃO AO MERCADO DE CARNE DE FRANGO ([link](http://dspace.bc.uepb.edu.br/jspui/bitstream/123456789/7096/1/PDF%20-%20Ianne%20Porfirio%20de%20Queiroz.pdf)).\n",
    "\n",
    "Assim como a autocorrelação, a **autocovariância** também é uma medida de relação linear entre variáveis aleatórias tomadas de um processo estocástico em tempos distintos ($t_1$ e $t_2$), e pode ser definida como:\n",
    "\n",
    "$$C_{xx}(t_1, t_2) = R(t_1, t_2) - \\mu(t_1)\\mu(t_2)$$\n",
    "\n",
    "A autocovariância mede a tendência da distribuição de probabilidade conjunta de $x(t_1)$ e $x(t_2)$. Assim, tanto a autocorrelação como a autocovariância medem como duas variáveis aleatórias, $x(t_1)$ e $x(t_2)$, de um processo estocástico variam conjuntamente (as duas crescem, descrescem ou tem relação inversa ao longo do tempo?).\n",
    "\n",
    "Como veremos posteriormente, a autocorrelção está intimamente ligada com a medida de potência de um sinal, enquanto a autocovariância está mais ligada a medida de correlação do sinal."
   ]
  },
  {
   "cell_type": "markdown",
   "metadata": {},
   "source": [
    "## Independência \n",
    "\n",
    "Independência estatística é o conceito relacionado com a influência entre duas variáveis aleatórias. Se nenhuma informação sobre uma variável aleatória $x$ pode ser extraída ao observar um variável $y$, elas são multualmente independentes. Esse conceito é uma associação mais geral entre duas variáveis aleatórias e pode acontecer em duas circunstâncias: (i) quando $x$ causa $y$, e vice-versa; e (ii) quando ambos $x$ e $y$ são influenciados pela mesma causa.\n",
    "\n",
    "Podemos testar independência estatística entre $x$ e $y$ usando:\n",
    "\n",
    "- Probabilidade conjunta: $P\\{x \\in A, y \\in B\\} = P\\{x \\in A\\} P\\{y \\in B\\}$\n",
    "- Probabilidade condicional: $P\\{x \\in A | y \\in B\\} = P\\{x \\in A\\}$\n",
    "- Função densidade de probabilidade conjunta: $f(x,y) = f_x(x)f_y(y)$.\n",
    "\n",
    "Por sua vez, dois processos estocásticos $x(t)$ e $y(t)$ são **independentes** quando as variáveis aleatórias $x(t_1)$, $x(t_2)$, ..., $x(t_n)$ e $y(t_1)$, $y(t_2)$, ..., $y(t_n)$ são multuamente independentes.\n",
    "\n",
    "Em geral, as variáveis aleatórias $x(t_1)$ e $x(t_2)$ do processo estocástico $x(t)$ são estatisticamente dependentes para qualquer tempos $t_1$ e $t_2$. Contudo, em muitos casos, essa dependência decresce com $\\left |  t_1 - t_2 \\right |  \\rightarrow  \\infty$. Isso leva a seguinte definição:\n",
    "\n",
    "> Um processo estocástico é chamado **a-dependente** se todos seu valores x(t) para $t < t_o$ e para $t > t_o + a$ são multuamente independentes. Isso resulta em $C_{xx}(t_1, t_2) = 0$, para $\\left |  t_1 - t_2 \\right |  > a$. Como consequência, qualquer combinação linear de suas valores para $t < t_o$ será descorrelacionada com seus valores para $t > t_o + a$. "
   ]
  },
  {
   "cell_type": "markdown",
   "metadata": {},
   "source": [
    "## Correlação, ortoganilidade e ruído branco\n",
    "\n",
    "Precisamos distinguir os conceitos de independência e descorrelação. Enquanto independência é um conceito mais geral (uma variável que influencia na outra), a correlação é um conceito mais específico. Duas variáveis são correlacionadas quando mostram tendência relacionadas de aumento ou queda.\n",
    "\n",
    "Dois processos estocásticos $z(t)$ e $w(t)$ são chamados de **descorrelacionados** se $C_{zw}(t_1, t_2) = 0$. A descorrelação implica que ao tomarmos duas variáveis aleatórias $z(t_1)$ e $w(t_2)$, $E\\{z(t_1)w(t_2)\\} = E\\{z(t_1)\\}E\\{w(t_2)\\}$.\n",
    "\n",
    "Eles são chamados **multuamente ortogonais** se $R_{zw}(t_1, t_2) = 0$. A ortogonaliade implica que ao tomarmos duas variáveis aleatórias $z(t_1)$ e $w(t_2)$, $E\\{z(t_1)w(t_2)\\} = 0$.\n",
    "\n",
    "**Ruído branco (white noise):** Podemos dizer que um processo $v(t)$ é um ruído branco se seus valores $v(t_i)$ e $v(t_j)$ são descorrelacionados para cada $t_i$ e $t_j$, com $t_j \\neq t_i$, i.e, $C_{xx}(t_i, t_j) = 0$. Outra forma de escrever isso é $C_{xx}(t_i, t_j) = q(t_j)\\delta(t_j-t_i)$, com $q(t)>0$.\n",
    "\n",
    "**Sinal IID (Independent and Identically distributed)**: além de independetes, os sinais IID são identicamente distribuídos, resultando em:\n",
    "\n",
    "$$f_x(x(t_1), x(t_2), ..., x(t_n)) = f_x(x(t_1)) f_x(x(t_2)) ... f_x(x(t_n))$$\n",
    "\n",
    "Neste caso, supondo $\\mu_x = 0$,\n",
    "\n",
    "$$R_{xx}(t_i, t_j) = E\\{ x(t_i)x(t_j)\\} = \\sigma_x\\delta(\\tau)$$\n",
    "\n",
    "\n"
   ]
  },
  {
   "cell_type": "markdown",
   "metadata": {},
   "source": [
    "## Correlação vs independência estatística\n",
    "\n",
    "Resumindo temos:\n",
    "\n",
    "- **Independência estatística** é relacionada diretamente com o significado na teoria da probabilidade, que estabelece que nenhum conhecimento sobre uma variável aleatória será revelado ao se conhecer um subconjunto de uma segunda variável aleatória independente;\n",
    "\n",
    "- Já **correlação** é uma medida de relação linear entre variáveis aleatórias. Variáveis aleatórias independentes tem correlação igual a zero. Contudo, é possível que variáveis com correlação zero não sejam independentes. **Correlação não implica relação de causa!!!**\n",
    "\n",
    "- Por outro lado, se duas variáveis são correlacionadas (correlação diferente de zero), elas certamente não são independentes. Isso se explica também partindo do princípio que a correlação é uma medida da relação linear entre duas variáveis. Se duas as variáveis apresentam dependência não-linear, elas podem ter correlação zero e mesmo assim serem dependentes, pois a medida de correlação pode não ser sensível a dependência não-linear. Assim, o conjunto de variáveis aleatórias correlacionadas é um subconjunto das variáveis aleatórias dependentes.\n",
    "\n",
    "![fig_corr_dep](./FIGS/HD_04_MATLAB/corr_dep.png)\n",
    "\n",
    "- Um exemplo ilustrativo é: As vendas de sorvete e protetor solar aumentam no verão e caem no inverno, contudo não se pode afirmar que um aumento nas vendas de protetor solar e sorvete causarão verão. "
   ]
  },
  {
   "cell_type": "markdown",
   "metadata": {},
   "source": [
    "## Estacionaridade e ergodicidade\n",
    "\n",
    "Existe um conjunto de sinais que apresentam medidas estatísticas que independem do tempo. Eles são conhecidos como sinais estacionários e são muito úteis porque permitem manipulação matemática mais simples. Assim, podemos definir:\n",
    "\n",
    "**Processos SSS**: Um processo estocástico $x(t)$ é chamado de **estacionário no sentido restrito (SSS)** se suas propriedades estatísticas são invariantes para um deslocamento da origem. Isso significa que os processos $x(t)$ e $x(t+c)$ tem as mesmas propriedades estatísticas para qualquer valor de $c$. \n",
    "\n",
    "**Processos WSS**: Um processo estocástico $x(t)$ é chamado de **estacionário no sentido amplo (WSS)** se:\n",
    "- Sua média é constante: $E\\{x(t)\\} = \\mu$; \n",
    "- Sua autocorrelação depende somente de $\\tau = t_1-t_2$: $R(\\tau) = E\\{x(t)x(t+\\tau)\\}$.\n",
    "\n",
    "Para um processo estocástico WSS de sinais reais, a função autocorrelação é definida como:\n",
    "\n",
    "$${R}_{xx}(\\tau)= \\int_{-\\infty}^{\\infty}x(t) \\cdot  x(t+\\tau)dt$$\n",
    "\n",
    "Note que $R_{xx}(\\tau)$ é uma função par $\\left ( R_{xx}(–\\tau) = R_{xx}(\\tau) \\right )$ de números reais, cujo o valor máximo está em $\\tau=0$.\n",
    "\n",
    "Um problema prático em aplicações da teoria de processos estocásticos é a estimação dos vários parâmetros estatísticos em função dos dados reais medidos. Assim, na prática, não temos disponíveis o real valor do parâmetro (média, variância, autocorrelação, etc), mas sim uma estatística (estimação baseada em amostras) dos parâmetros. **Sinais ergóticos** são aqueles que seus parâmetros estatísticos são bem representados pela estimação amostral. A ergodicidade pode se dar na média, na autocorrelação, ou em relação a outras medidas. \n",
    "\n",
    "Vamos tomar o exemplo da média de um sinal discreto como ilustração. Suponha que nós temos $N$ observações estatisticamente independentes da variável aleatória $x$ e queremos estimar sua a média ($m$) através do estimador:\n",
    "\n",
    "$$\\mu_e = \\sum_{n=1}^{N} x[n]$$\n",
    "\n",
    "Claramente, $\\mu_e$ é um estimador não tendencioso de $m$, pois $E\\{\\mu_e\\} = \\frac{1}{N}\\sum_{n=1}^{N} E\\{x[n]\\} =  \\frac{1}{N}\\cdot mN = m$. \n",
    "\n",
    "A ergodicidade pode ser testada ao tomarmos ${\\sigma_e}^2$ como a variância do estimador $\\mu_e$ (claro, em relação a média de $x(t)$), i.e., a medida de dispersão do estimador em relação a sua média. Se ${\\sigma_e}^2 = E\\{(\\mu_e - m)^2\\} \\rightarrow 0$ quando $N \\rightarrow  \\infty$, o processo estocástico é ergótico na média. Para esse exemplo, ${\\sigma_e}^2 = E\\{(\\mu_e - m)^2\\} = \\frac{\\sigma^2}{N}$, satisfazendo a condição de ergodicidade na média (para detalhes do desenvolvimento matemático, ver página 50, seção 2.2.1 de John G. Proakis, Masoud Salehi, John G. Proakis, Modern Communication Systems Using MATLAB, 3rd Edition, CENAGE Learning,2013).\n",
    "\n",
    "Assim, para estabelecer a ergodicidade de um processo estocástico, é suficiente achar ${\\sigma_e}^2$ e examinar que condição ${\\sigma_e}^2\\rightarrow 0$ quando $N \\rightarrow  \\infty$."
   ]
  },
  {
   "cell_type": "markdown",
   "metadata": {
    "run_control": {
     "frozen": false,
     "read_only": false
    }
   },
   "source": [
    "# Energia e densidade espectral de energia de um sinal\n",
    "\n",
    "Para um sinal de tempo contínuo x(t), entende-se como **energia** $E_x$ de $x(t)$:\n",
    "\n",
    "$$E_x = \\int_{-\\infty}^{+\\infty} \\left |x(t)\\right |^{2}dt$$ \n",
    "\n",
    "Energia é uma medida de tamanho do sinal e se pensarmos em uma grandeza que meça a intensidade de um sinal, normalmente vemos um sinal $x(t)$ como uma tensão (ou corrente) em um resitor de um ohm. Assim, $E_x$ é a energia que a tensão $x(t)$ dissipa no resistor. Esse medida é especialmente interesssante para medir a intensidade de sinais energia (sinais com energia limitada), como por exemplo, para sinais digitais modulados. Outra maneira de ver a formulação acima é entender a energia como a área sob a curva de $\\left |x(t)\\right |^{2}$.\n",
    "\n",
    "A **energia** pode ser calculada usando o teorema de Parseval através da transformada de Fourier $X(f)$:\n",
    "\n",
    "$$E_x = \\int_{-\\infty}^{+\\infty} \\left |X(f)\\right |^{2}df$$ \n",
    "\n",
    "Uma das interpretações da formulação acima é que a energia é resultado das energias contribuídas por todas as componentes espectrais do sinal $x(t)$. Como a contribuição da componente associada a frequência $f_i$ é $\\left |X(f_i)\\right |^{2}$, podemos definir a **densidade espectral de energia (ESD)** como:\n",
    "\n",
    "$$\\Psi_x(f) = \\left |X(f)\\right |^{2}$$ \n",
    "\n",
    "Assim, podemos escrever a energia como:\n",
    "\n",
    "$$E_x = \\int_{-\\infty}^{+\\infty} \\Psi_x(f) df$$ \n",
    "\n",
    "Se $x(t)$ for um sinal real, podemos relacionar autocorrelação com a densidade espectral de energia através da transformada de Fourrier, de forma que:\n",
    "\n",
    "$$ \\Psi_x(f) = \\mathcal{F}[{R}_{xx}(\\tau)]$$\n",
    "\n",
    "Para sinais discretos no tempo, a energia é definida como:\n",
    "\n",
    "$$ E_x = T_s\\sum_{n=-\\infty}^{\\infty} \\left | x[t] \\right |^2$$\n",
    "\n",
    "Para sinais discretos no tempo, a energia pode ser estimada por meio de $N$ amostras do sinal, como:\n",
    "\n",
    "$$E_x = T_{s}\\sum_{n=0}^{N-1} \\left |  x[n]  \\right |^{2} $$\n",
    "\n",
    "Com a amostragem começando no instante $n=0$ e terminando em $n = N-1$."
   ]
  },
  {
   "cell_type": "markdown",
   "metadata": {},
   "source": [
    "## Potência e densidade espectral de potência\n",
    "\n",
    "Para um sinal potência (potência média limitada) uma medida razoável de seu tamanho é a potência média. Potênca média é definida como valor médio da energia do sinal em um intervalo de tempo e pode ser escrita como:\n",
    "\n",
    "$${P}_x = \\lim_{T\\rightarrow \\infty} \\frac{1}{T}\\int_{-T/2}^{T/2} \\left |x(t)\\right |^{2}dt$$\n",
    "\n",
    "Note que a integral $\\int_{-T/2}^{T/2} \\left |x(t)\\right |^{2}dt$ é a energia de um sinal truncado entre $-T/2$ e $-T/2$, a qual chamaremos de $E_{x_T}$. Assim, podemos escrever:\n",
    "\n",
    "$${P}_x = \\lim_{T\\rightarrow \\infty} \\frac{E_{x_T}}{T}$$\n",
    "\n",
    "Pelo teorema de Parseval, podemos escrever:\n",
    "\n",
    "$$E_{x_T} = \\int_{-\\infty}^{+\\infty} \\left |x(t)\\right |^{2}dt = \\int_{-\\infty}^{+\\infty} \\left |X(f)\\right |^{2}df$$ \n",
    "\n",
    "Portanto, $P_x$, a potência média de $x(t)$, pode ser escrita como:\n",
    "\n",
    "$${P}_x = \\lim_{T\\rightarrow \\infty} \\frac{E_{x_T}}{T} = \\lim_{T\\rightarrow \\infty} \\frac{1}{T} \\int_{-\\infty}^{+\\infty} \\left |X(f)\\right |^{2}df = \\lim_{T\\rightarrow \\infty} \\int_{-\\infty}^{+\\infty} \\frac{\\left |X(f)\\right |^{2}}{T}df$$\n",
    "\n",
    "\n",
    "Agora podemos definir a **densidade espectral de potência (PSD)** como:\n",
    "\n",
    "$$S_{x}(f)= \\lim_{T\\rightarrow \\infty}\\frac{\\left |X(f)\\right |^{2}}{T}df$$\n",
    "\n",
    "Portanto, a potência média é a área sob a curva PSD:\n",
    "\n",
    "$$P_{x}=\\int_{-\\infty}^{\\infty}S_{x}(f)df$$\n",
    "\n",
    "A **função autocorrelação temporal** (_time-average autocorrelation function_) de um sinal potência de valores reais $x(t)$ é definida como:\n",
    "\n",
    "$${R}_{xx}(\\tau)=\\lim_{T\\rightarrow \\infty} \\frac{1}{T}\\int_{-T/2}^{T/2}x(t) \\cdot  x(t+\\tau)dt$$\n",
    "\n",
    "Em que $T$ é o período de observação.\n",
    "\n",
    "Podemos relacionar autocorrelação temporal com a densidade espectral de potência (PSD) através da transformada de Fourrier, de forma que:\n",
    " \n",
    "$$S_{x}(f)=\\mathcal{F}[{R}_{xx}(\\tau)]$$\n",
    "\n",
    "Uma propriedade importante é a relação entre a potência média do sinal WSS e sua autocorrelação:\n",
    "\n",
    "$$P_x = R_{xx}(0) = E\\{x^2(t)\\}$$\n",
    "\n",
    "Assim, podemos afirmar que a potência média de sinais WSS é o valor máximo da curva de autocorrelação.\n",
    "\n",
    "Para sinais discretos no tempo, a potência média é defnida como:\n",
    "\n",
    "$$P = \\lim_{N \\rightarrow\\infty}\\frac{1}{2N+1}\\sum_{n=-N}^{N} \\left |  x[n]  \\right |^{2} $$\n",
    "\n",
    "\n",
    "\n",
    "Para sinais discretos no tempo, a potência pode ser estimada por meio de $N$ amostras do sinal, como:\n",
    "\n",
    "$$P = \\frac{1}{N}\\sum_{n=0}^{N-1} \\left |  x[n]  \\right |^{2} $$\n",
    "\n",
    "Com a amostragem começando no instante $n=0$ e terminando em $n = N-1$."
   ]
  },
  {
   "cell_type": "markdown",
   "metadata": {},
   "source": [
    "## Cálculo (estimativa) da autocorrelação\n",
    "\n",
    "Para um sinal amostrado, a estimação da autocorrelação pode ser feita como:\n",
    " \n",
    "- Versão biased (com tendência, com viés): \n",
    "\n",
    "$$R_{xx}[m]=\\frac{1}{N}\\sum_{n=1}^{N-m}x[n] \\cdot  x[n+m]$$\n",
    "\n",
    "- Versão unbiased (sem tendência, sem viés): \n",
    "\n",
    "$$R_{xx}[m]=\\frac{1}{N-|m|}\\sum_{n=1}^{N-m}x[n] \\cdot  x[n+m]$$\n",
    "\n",
    "para $m = 0, 1, ..., M$, em que M é o número de atrasos usados na estimação e $N$ o número de amostras do sinal. "
   ]
  },
  {
   "cell_type": "markdown",
   "metadata": {
    "run_control": {
     "frozen": false,
     "read_only": false
    }
   },
   "source": [
    "# Prática 1: Cálculo da autocorrelação\n",
    "\n",
    "\n",
    "Para calcular a autocorrelação de um sinal amostrado não será necessário integrações, pois no tempo discreto sua formulação depende de um somatório. Portanto usaremos a fórmula de autocorrelação discreta para calcular $R_{xx}(m)$. \n",
    "\n",
    "\n",
    "**Passo 01:** Abra um script no Matlab, salve-o como **handson4_1.m** e escreva o seguinte código:"
   ]
  },
  {
   "cell_type": "code",
   "execution_count": 1,
   "metadata": {
    "run_control": {
     "frozen": false,
     "read_only": false
    }
   },
   "outputs": [
    {
     "data": {
      "image/png": "[encoded data removed]",
      "text/plain": [
       "<IPython.core.display.Image object>"
      ]
     },
     "metadata": {},
     "output_type": "display_data"
    }
   ],
   "source": [
    "clc; close all;clear all;               % Limpa tela variáveis e fecha gráficos\n",
    "%% Parâmetros do sinal \n",
    "M=1000;                                 % Número de atrasos\n",
    "N=1000;                                 % Número de amostras\n",
    "f1=10;                                  % Frequência do seno (kHz)\n",
    "Fs=2000;                                % Frequência de amostragem (kHz)\n",
    "n=0:N-1;                                % Vetor com índices de amostra\n",
    "Am=5;                                   % Determina a amplitude\n",
    "x=Am*sin(2*pi*f1*n/Fs);                 % Gera o sinal x(n)\n",
    "t=[1:N]*(1/Fs);                         % Definiçao do eixo do tempo\n",
    "%% Cálculo da Autocorrelação\n",
    "Rxx=zeros(1,M);\n",
    "for m = 1: M                            % Laço do número de atrasos\n",
    "   for n = 1 : N-m                      % Laço do número de amostras\n",
    "      Rxx(m)=Rxx(m)+x(n)*x(n+m-1);      % Cálculo de um ponto de Rxx\n",
    "    end\n",
    "end\n",
    "Rxx=Rxx/M;\n",
    "% Plot do sinal\n",
    "subplot(2,1,1);                         \n",
    "plot(t,x);                              \n",
    "title('Sinal senoidal no tempo');\n",
    "xlabel('Tempo [s]');\n",
    "ylabel('Amplitude');\n",
    "grid;\n",
    "% Plot da autocorrelação\n",
    "subplot(2,1,2);                         \n",
    "plot(Rxx);                              \n",
    "title('Autocorrelação do sinal senoidal');\n",
    "xlabel('Atrasos');\n",
    "ylabel('Autocorrelação');\n",
    "grid;"
   ]
  },
  {
   "cell_type": "markdown",
   "metadata": {},
   "source": [
    "**Passo 2:** Sabemos que a potência média é o valor de $R_{xx}(0)$. Assim, vamos inspecionar o gráfico de autocorrelação e verifique a potência média do sinal. Digite no  _Command Window do Matlab_ o seguinte comando:"
   ]
  },
  {
   "cell_type": "code",
   "execution_count": 2,
   "metadata": {},
   "outputs": [
    {
     "name": "stdout",
     "output_type": "stream",
     "text": [
      "\n",
      "ans =\n",
      "\n",
      "   12.5000\n",
      "\n"
     ]
    }
   ],
   "source": [
    "Rxx(1)"
   ]
  },
  {
   "cell_type": "markdown",
   "metadata": {},
   "source": [
    "Note que sse valor é exatamente $\\frac{Am^2}{2} = \\frac{5^2}{2} =$ 12,5."
   ]
  },
  {
   "cell_type": "markdown",
   "metadata": {},
   "source": [
    "# Prática 2: Função do Matlab para o cálculo da autocorrelação\n",
    "\n",
    "A função obtida na prática 1 mostra a autocorrelação do sinal $x(t)$ para valores de $m$ positivos. No Matlab, a função **xcorr($\\cdot$)** produz uma estimativa da correlação entre duas sequências aleatórias ou a própria autocorrelação. \n",
    "\n",
    "**Passo 01:** Abra um script no Matlab, salve-o como **handson4_2.m** e escreva o seguinte código:"
   ]
  },
  {
   "cell_type": "code",
   "execution_count": 3,
   "metadata": {
    "run_control": {
     "frozen": false,
     "read_only": false
    }
   },
   "outputs": [
    {
     "data": {
      "image/png": "[encoded data removed]",
      "text/plain": [
       "<IPython.core.display.Image object>"
      ]
     },
     "metadata": {},
     "output_type": "display_data"
    }
   ],
   "source": [
    "clc; close all;clear all;               % Limpa tela variáveis e fecha gráficos\n",
    "%% Parâmetros do sinal \n",
    "N=1000;                                 % Número de amostras\n",
    "f1=10;                                  % Frequência do seno (kHz)\n",
    "Fs=2000;                                % Frequência de amostragem (kHz)\n",
    "n=0:N-1;                                % Números de índice de amostra\n",
    "Am=5;                                   % Amplitude do seno\n",
    "x=Am*sin(2*pi*f1*n/Fs);                 % Gera o sinal x(n)\n",
    "t=[1:N]*(1/Fs);                         % Definiçao do eixo do tempo\n",
    "Rxx=xcorr(x,'biased');                  % Estima a autocorrelaçao de x(n)\n",
    "\n",
    "%% Plotting\n",
    "% Plota x(n)\n",
    "subplot(2,1,1);                         \n",
    "plot(t,x);                              \n",
    "title('Sinal senoidal no tempo');\n",
    "xlabel('Tempo, [s]');\n",
    "ylabel('Amplitude');\n",
    "grid;\n",
    "% Plota Autocorrelação\n",
    "subplot(2,1,2);                         \n",
    "plot(Rxx);                             \n",
    "title('Autocorrelação');\n",
    "xlabel('Atrasos');\n",
    "title('Autocorrelação do sinal senoidal');\n",
    "grid;"
   ]
  },
  {
   "cell_type": "markdown",
   "metadata": {},
   "source": [
    "Note que a função aucorrelação obtida na prática 2 mostra a autocorrelação do sinal $x(t)$  centrada no zero. Assim, a função **xcorr** retorna o dobro do número de amostras do sinal $x(n)$. Como esperado, o gráfico acima estima a autocorrelação com $N$=1000 amostras, dessa forma se assemelhando ao gráfico do código feito sem usar a função do Matlab (prática 1)."
   ]
  },
  {
   "cell_type": "markdown",
   "metadata": {
    "run_control": {
     "frozen": false,
     "read_only": false
    }
   },
   "source": [
    "# Prática 3: Cálculo de potência média\n",
    "\n",
    "Para um sinal discreto no tempo $x[n]$, a potência média pode ser estimada de várias formas, entre elas:\n",
    "\n",
    "- **No tempo:** $P = \\frac{1}{N}\\sum_{n=0}^{N-1} \\left |  x[n]  \\right |^{2} $;\n",
    "\n",
    "- **Na frequência:** $P = \\sum_{n=0}^{N-1} \\left |X[k]\\right |^{2} $;\n",
    "\n",
    "- **Pela autocorrelação**: $P = R_{xx}(0)$, em que $R_{xx}(0)$ é a função autocorrelação;\n",
    "\n",
    "- **Pela variância**: $P = E[x^2] = {\\mu_x}^2 + {\\sigma_x}^2 $. Um sinal senoidal tem média zero, pois possui ciclos positivos e negativos simétricos. Então, a variância corresponde exatamente à potência do sinal;\n",
    "\n",
    "- **No Matlab, pela função bandpower**: Retorna a média de potência no sinal de entrada."
   ]
  },
  {
   "cell_type": "markdown",
   "metadata": {},
   "source": [
    "**Passo 01:** Chame o help da função _bandpower_ no _Command Window_ do Matlab e verifique seu significado. "
   ]
  },
  {
   "cell_type": "code",
   "execution_count": 2,
   "metadata": {
    "run_control": {
     "frozen": false,
     "read_only": false
    }
   },
   "outputs": [
    {
     "name": "stdout",
     "output_type": "stream",
     "text": [
      "bandpower - Band power\n",
      "\n",
      "    This MATLAB function returns the average power in the input signal, x.\n",
      "\n",
      "    p = bandpower(x)\n",
      "    p = bandpower(x,fs,freqrange)\n",
      "    p = bandpower(pxx,f,'psd')\n",
      "    p = bandpower(pxx,f,freqrange,'psd')\n",
      "\n",
      "    See also periodogram, sfdr\n",
      "\n"
     ]
    }
   ],
   "source": [
    "help bandpower"
   ]
  },
  {
   "cell_type": "markdown",
   "metadata": {},
   "source": [
    "**Passo 02**: Abra um script no Matlab, salve-o como **handson4_3.m** e escreva o seguinte código:"
   ]
  },
  {
   "cell_type": "code",
   "execution_count": 5,
   "metadata": {
    "run_control": {
     "frozen": false,
     "read_only": false
    }
   },
   "outputs": [
    {
     "name": "stdout",
     "output_type": "stream",
     "text": [
      "Potência via amostras no tempo = 50, 0.079677 segundos para calcular.\n",
      "Potência via FFT (Parseval) = 50, 0.11335 segundos para calcular.\n",
      "Potência via autocorrelação = 50, 1.9964 segundos para calcular.\n",
      "Potência via função bandpower = 50, 0.070188 segundos para calcular.\n",
      "Potência via variância = 50.0001, 0.047884 segundos para calcular.\n"
     ]
    }
   ],
   "source": [
    "clc; close all;clear all;\n",
    "%% Parâmetros do sinal \n",
    "fc=0.04;                              % Frequência do seno\n",
    "Fs=10;                                % Frequência de amostragem\n",
    "Ts = 1/Fs;                            % Tempo entre amostras\n",
    "A = 10;                               % Amplitude do sinal\n",
    "nC = 2000;                            % Número de períodos da onda   \n",
    "t=0:Ts:nC/fc-Ts;                      % Vetor tempo\n",
    "x=A*cos(2*pi*fc*t);                   % Gera o sinal x(n)\n",
    "N = length(x);                        % Número de amostras do sinal\n",
    "sT1 = tic; \n",
    "Px_tempo =(norm(x)^2)/N; % Cálculo da potência no tempo\n",
    "disp(['Potência via amostras no tempo = ' num2str(Px_tempo) ', ' num2str(toc(sT1)) ' segundos para calcular.' ]);\n",
    "\n",
    "sT2 = tic;\n",
    "Nfft = 1000;                          % Número de pontos da FFT\n",
    "Xfft=fft(x,Nfft);                     % Encontra a FFT\n",
    "Xfft = Xfft/Nfft;                     % Encontra a FFT \n",
    "Px_fft = sum(Xfft.*conj(Xfft));       % Cálculo da potência na frêquencia\n",
    "disp(['Potência via FFT (Parseval) = ' num2str(Px_fft) ', ' num2str(toc(sT2)) ' segundos para calcular.' ]);\n",
    "\n",
    "sT3 = tic;\n",
    "Rxx=xcorr(x,'biased');                % Estima a autocorrelaçao de x(n)\n",
    "Px_Rxx = Rxx(N);                      % Cálculo da potência duas bandas via autocorrelação\n",
    "disp(['Potência via autocorrelação = ' num2str(Px_Rxx) ', ' num2str(toc(sT3)) ' segundos para calcular.' ]);\n",
    "\n",
    "sT4 = tic;\n",
    "Px_bPower = bandpower(x);             % Cálculo da potência via bandpower\n",
    "disp(['Potência via função bandpower = ' num2str(Px_bPower) ', ' num2str(toc(sT4)) ' segundos para calcular.' ]);\n",
    "\n",
    "sT5 = tic;\n",
    "Pvar = var(x);                        % Cálculo da potência duas bandas via variancia\n",
    "disp(['Potência via variância = ' num2str(Pvar) ', ' num2str(toc(sT5)) ' segundos para calcular.' ]);"
   ]
  },
  {
   "cell_type": "markdown",
   "metadata": {
    "run_control": {
     "frozen": false,
     "read_only": false
    }
   },
   "source": [
    "Observe as várias maneiras de estimar a potência resultaram em valores similares. Percebe-se que há um pequeno erro na potência calculada pela variância devido ao número de amostras da senoide. Quanto maior o número de amostras $N$, mais preciso é o cálculo da potência, pois mais próximo de zero será a média.\n",
    "\n",
    "**Passo 3:** Mude a variável **_nC_** para 20000 e veja o que acontece com a imprecisão do cálculo da potência e com o tempo para calcular. "
   ]
  },
  {
   "cell_type": "markdown",
   "metadata": {},
   "source": [
    "# Prática 4: Cálculo de potência média\n",
    "\n",
    "Outra maneira de estimar a potência de um sinal é via PSD. Existem várias maneiras de estimar a PSD de um sinal por meio de um conjunto de suas amostras. Esse experimento explorará o periodigrama.\n",
    "\n",
    "**Passo 01:** Abra um script no Matlab, salve-o como **handson4_4.m** e escreva o seguinte código:"
   ]
  },
  {
   "cell_type": "code",
   "execution_count": 16,
   "metadata": {},
   "outputs": [
    {
     "name": "stdout",
     "output_type": "stream",
     "text": [
      "A potência máxima ocorre em 0.04 Hz\n",
      "A potência estimada é 50\n"
     ]
    },
    {
     "data": {
      "image/png": "[encoded data removed]",
      "text/plain": [
       "<IPython.core.display.Image object>"
      ]
     },
     "metadata": {},
     "output_type": "display_data"
    }
   ],
   "source": [
    "clc; close all;clear all;\n",
    "%% Parâmetros do sinal \n",
    "fc=0.04;                              % Frequência do seno\n",
    "Fs=10;                                % Frequência de amostragem\n",
    "Ts = 1/Fs;                            % Tempo entre amostras\n",
    "A = 10;                               % Amplitude do sinal\n",
    "nC = 2000;                            % Número de períodos da onda   \n",
    "t=0:Ts:nC/fc-Ts;                      % Vetor tempo\n",
    "x=A*cos(2*pi*fc*t);                   % Gera o sinal x(n)\n",
    "N = length(x);                        % Número de amostras do sinal\n",
    "\n",
    "Nfft = 1000;\n",
    "Xfft=fft(x,Nfft);                     % Encontra a FFT\n",
    "Xfft = Xfft(1:end/2);\n",
    "f=[0:Fs/Nfft:0.5*Fs-Fs/Nfft];         % Eixo da frequência\n",
    "subplot(3,1,1);\n",
    "stem (f,abs(Xfft)/Nfft);              % Plota a espectro\n",
    "title('FFT do sinal');                % Configura título\n",
    "xlabel('Frequência');\n",
    "ylabel('Magnitude');\n",
    "grid on;\n",
    "axis([0 2*fc 0 A^2/4]);               % Zoom no gráfico\n",
    "\n",
    "[pxx,f] = periodogram(x,hamming(length(x)),length(x),Fs,'power');\n",
    "[pwrest,idx] = max(pxx);\n",
    "subplot(3,1,2);\n",
    "plot(f,pxx);\n",
    "title('Peridiograma');\n",
    "xlabel('Frequência');\n",
    "ylabel('Potência (W)');\n",
    "grid on;\n",
    "axis([0 2*fc 0 A^2]);\n",
    "disp(['A potência máxima ocorre em ' num2str(f(idx)) ' Hz' ] );\n",
    "disp(['A potência estimada é ' num2str(pwrest) ] );\n",
    "subplot(3,1,3);\n",
    "periodogram(x,hamming(length(x)),length(x),Fs,'power');\n",
    "axis([0 2*fc 0 10*log10(A^2)]);"
   ]
  },
  {
   "cell_type": "markdown",
   "metadata": {},
   "source": [
    "Verifique a correspondência dos gráficos de magnitude e potência com a [referência teórica](http://www.gaussianwaves.com/2013/12/computation-of-power-of-a-signal-in-matlab-simulation-and-verification/) ilustrada nas figuras abaixo.\n",
    "\n",
    "![fig_seno_tempo_freq](./FIGS/HD_04_MATLAB/seno_tempo_freq.png)\n",
    "\n",
    "![fig_seno_pot](./FIGS/HD_04_MATLAB/seno_pot.png)\n",
    "\n",
    "Note que o peridiograma devolve o valor total da potência na banda positiva do sinal!!!\n"
   ]
  },
  {
   "cell_type": "markdown",
   "metadata": {},
   "source": [
    "**Para o relatório:** Verifique a documentação da função _periodogram_. Use a função fmmod para gerar uma onda modulada em FM. Faça o cálculo de potência de uma onda modulada FM. Observe e discuta os resultados. Verifique se o seu resultado é coerente com a teoria."
   ]
  },
  {
   "cell_type": "markdown",
   "metadata": {
    "run_control": {
     "frozen": false,
     "read_only": false
    }
   },
   "source": [
    "# Prática 5: Removendo eco com a autocorrelação\n",
    "\n",
    "Como a autocorrelação trata-se de quanto a onda se relaciona com ela mesma, podemos localizar eco no sinal recebido e posteriormente filtra-lo. Esse experimento faz uma demonstração simples de como isso pode ser implementado. Este experimento foi baseado em [Borges, 2007](https://fenix.tecnico.ulisboa.pt/downloadFile/3779571655686/SS_Lab_3_2007_08.pdf) e [Matlab xcorr help](https://www.mathworks.com/help/signal/ref/xcorr.html).\n",
    "\n",
    "Os seguintes passos serão feitos:\n",
    "\n",
    "1. Abrir um arquivo de som;\n",
    "2. Estender o tamanho do arquivo de som para inserção do eco. Faremos isso para colocar o eco completo no som original. Por exemplo, se temos um áudio de 5 segundos e queremos colocar um eco com atraso de 1 segundo, então áudio final estendido terá tamanho de 6 segundos. Matematicamente, temos:\n",
    "$$y[n] = x[n]+\\alpha x[n-N]$$\n",
    "sendo $y[n]$ o sinal com eco, $x[n]$ o sinal de áudio original, $\\alpha$ um coeficiente de atenuação do sinal de eco e o termo x[n-N] representa o sinal de eco com um atraso de $N$ amostras.\n",
    "3. De posse de y[n], vamos encontrar o atraso que o eco se localiza, i.e., o começo do eco. Para isso calcularemos a autocorrelação. Ela exibirá um pico onde o sinal começa a se  repetir (começo do eco). Para achar o atraso ($N$) correspondente a tal pico, usaremos a função _findpeaks()_;\n",
    "4. De posse do atraso que começa o eco,  filtraremos o sinal estendido com um filtro de modelo inverso ao do sistema, o qual obedece a seguinte equação:\n",
    "$$z[n]+\\alpha z[n-N] = y[n]$$\n",
    "sendo z[n] a nova saída do sistema, idealmente sem a presença de eco. O sistema de remoção de eco é ligado em cascata ao \n",
    "sistema de eco, tal como ilustrado na figura a seguir. \n",
    "![fig_eco](./FIGS/HD_04_MATLAB/eco.png)\n"
   ]
  },
  {
   "cell_type": "markdown",
   "metadata": {},
   "source": [
    "**Passo 01:** Abra um script no Matlab, salve-o como **handson4_5.m** e escreva o seguinte código (cuidado para indicar o endereço correto do arquivo de som):"
   ]
  },
  {
   "cell_type": "code",
   "execution_count": 12,
   "metadata": {
    "run_control": {
     "frozen": false,
     "read_only": false
    },
    "scrolled": false
   },
   "outputs": [
    {
     "data": {
      "image/png": "[encoded data removed]",
      "text/plain": [
       "<IPython.core.display.Image object>"
      ]
     },
     "metadata": {},
     "output_type": "display_data"
    },
    {
     "data": {
      "image/png": "[encoded data removed]",
      "text/plain": [
       "<IPython.core.display.Image object>"
      ]
     },
     "metadata": {},
     "output_type": "display_data"
    },
    {
     "data": {
      "image/png": "[encoded data removed]",
      "text/plain": [
       "<IPython.core.display.Image object>"
      ]
     },
     "metadata": {},
     "output_type": "display_data"
    }
   ],
   "source": [
    "clc;clear all; close all;\n",
    "%% Abrindo o guitar.wav - Definições de parâmetros \n",
    "[y,fs]=  audioread('./MATERIAL/HD_02_MATLAB/sound_01.wav');    % Endereço do nosso sinal\n",
    "timelag = 0.5;                                                  % Atraso do eco\n",
    "delta = round(fs*timelag);                                      % Inteiro correspondente a posição do eco\n",
    "alfa = 0.5;                                                     % Define a amplitude do eco \"alfa\" \n",
    "\n",
    "%% Montagem do eco\n",
    "orig = [y;zeros(delta,1)];                                      % Completa o final do vetor y com zeros\n",
    "eco = [zeros(delta,1);y]*alfa;                                  % Completa o início do vetor eco com zeros\n",
    "Yeco = orig + eco;                                              % Soma som original com o eco\n",
    "t = (0:length(Yeco)-1)/fs;                                      % Definiçao do eixo do tempo com o comprimento do novo vetor Yeco\n",
    "\n",
    "%% Cálculo do vetor autocorrelação positivo\n",
    "[Rxx,lags] = xcorr(Yeco,'unbiased');                            % Calcula a autocorrelação normalizada com o comprimento \n",
    "Rxx = Rxx(lags>0);                                              % Pega apenas a parte positiva do vetor Rxx\n",
    "lags = lags(lags>0);                                            % Pega apenas a parte positiva do vetor lags\n",
    "\n",
    "%% Encontrando e removendo o eco com filtro            \n",
    "% Teremos que descobrir onde fica na autocorrelação o local do eco (pico da\n",
    "% correlação). Usaremos a função findpeaks pra encontrar. Porém por ser um \n",
    "% sinal periódico, encontraremos vários picos de correlação. Portanto \n",
    "% entende-se como local do eco o pico mais distante e de maior altura. \n",
    "\n",
    "[~,dl] = findpeaks(Rxx,lags,'MinPeakHeight',1.5e-3);            % Encontra picos num intervalo minimo entre eles de 2x10-3\n",
    "newdelta= max(dl)-1;                                            % Novo delta (vetor local de eco)\n",
    "Ynew = filter(1,[1 zeros(1,newdelta-1) alfa],Yeco);             % Filtra no vetor Yeco a partir da posição newdelta o eco\n",
    "\n",
    "%% Plotting\n",
    "% Plotta Sinal Original e Sinal filtrado \n",
    "% Plota o sinal original\n",
    "figure(3)\n",
    "subplot(2,1,1)\n",
    "plot(t,orig)\n",
    "title('Sinal Original')\n",
    "legend('Original')\n",
    "xlabel('Tempo (s)')\n",
    "% Plota o sinal filtrado (que deve ser idêntico ao sinal original).\n",
    "subplot(2,1,2)\n",
    "plot(t,Ynew)\n",
    "title('Sinal Filtrado')\n",
    "legend('Filtrado')\n",
    "xlabel('Tempo (s)')\n",
    "\n",
    "%% Plotting vetor da autocorrelação\n",
    "figure (2)\n",
    "plot(lags/fs,Rxx)\n",
    "title('Autocorrelaçao Com Eco')\n",
    "xlabel('Lag (s)')\n",
    "\n",
    "%% Plota os vetores do som original e eco no mesmo gráfico\n",
    "% Plota o som original\n",
    "figure (1)                                                      \n",
    "subplot(2,1,1)                                                  \n",
    "plot(t,[orig eco])\n",
    "title('Sinal Original e Eco')\n",
    "legend('Original','Eco')\n",
    "xlabel('Tempo (s)')\n",
    "% Plota a soma do som original com eco \n",
    "subplot(2,1,2)                                                 \n",
    "plot(t,Yeco)\n",
    "title('Soma Dos Sinais')\n",
    "legend('Total')\n",
    "xlabel('Tempo (s)')\n",
    "\n",
    "%% Áudio\n",
    "% Para ouvir os sons digite:\n",
    " soundsc(y,fs);\n",
    " soundsc(Yeco,fs);\n",
    " soundsc(Ynew,fs);\n"
   ]
  },
  {
   "cell_type": "markdown",
   "metadata": {},
   "source": [
    "O código mostra os seguintes gráficos:\n",
    "1. Áudio original vs Áudio com eco. Nesse gráficos podemos notar o valor de lag (atraso do eco) em 0,5 segundos; \n",
    "2. Autocorrelação do áudio com eco. Podemos visualizar um pico repentino de autocorrelação em 0,5;\n",
    "3. Áudio original vs Áudio filtrado (sem eco novamente).\n",
    "\n",
    "O script toca o som original, o som com eco e o som com eco removido."
   ]
  },
  {
   "cell_type": "markdown",
   "metadata": {},
   "source": [
    "# Bibliografia\n",
    "\n",
    "Documentação da função xcorr do Matlab (https://www.mathworks.com/help/signal/ref/xcorr.html).\n",
    "\n",
    "José Borges,Instituto Superior Técnico- Lisboa, 3º Laboratório de Sistemas e Sinais (https://fenix.tecnico.ulisboa.pt/downloadFile/3779571655686/SS_Lab_3_2007_08.pdf).\n",
    "\n",
    "S R Taghizadeh, Digital Signal Processing - Part 3 - Discrete-Time Signals & Systems Case Studies (http://aparate.elth.ucv.ro/POPA/Matla/matlabsignal.pdf).\t\n",
    "\n",
    "Marcelo Menezes Reis, PROCESSOS ESTOCÁSTICOS, Definições, Principais Tipos, Aplicações em Confiabilidade de Sistemas e Sinais (http://www.inf.ufsc.br/~marcelo.menezes.reis/Processos01.pdf)\n",
    "\n",
    "Sílvio A. Abrantes, DEEC/FEUP, Função de autocorrelação e \n",
    "densidade espectral de potência (http://paginas.fe.up.pt/~sam/CCD/apontamentos_SS/Fun%E7%E3o_Autoc.pdf)\n",
    "\n",
    "Mathuranathan Viswanathan, Computation of Power of a Signal in Matlab – Simulation and Verification (http://www.gaussianwaves.com/2013/12/computation-of-power-of-a-signal-in-matlab-simulation-and-verification/)\n",
    "\n",
    "Documentação da função periodogram do Matlab (https://www.mathworks.com/help/signal/ref/periodogram.html)\n",
    "\n",
    "John G. Proakis, Masoud Salehi, John G. Proakis, Contemporary Communication Systems Using MATLAB, 3rd Edition, CENAGE Learning,2013.\n",
    "\n"
   ]
  }
 ],
 "metadata": {
  "kernelspec": {
   "display_name": "Matlab",
   "language": "matlab",
   "name": "matlab"
  },
  "language_info": {
   "codemirror_mode": "octave",
   "file_extension": ".m",
   "help_links": [
    {
     "text": "MetaKernel Magics",
     "url": "https://github.com/calysto/metakernel/blob/master/metakernel/magics/README.md"
    }
   ],
   "mimetype": "text/x-matlab",
   "name": "matlab",
   "version": "0.14.3"
  }
 },
 "nbformat": 4,
 "nbformat_minor": 2
}
