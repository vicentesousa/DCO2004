{
 "cells": [
  {
   "cell_type": "markdown",
   "metadata": {},
   "source": [
    "# Resolução da prova escrita da disciplina DCO2004\n",
    "\n",
    "### Questão HD_09:\n",
    "Considerando o **Hands-On 09: Modulação digital(modulação, demodulação e desempenho em ruído AWGN)**, qual a probabilidade de erro para um sistema digital binário com sinais antipodais e:\n",
    "- Prova do tipo 1: Eb/No = 17?\n",
    "- Prova do tipo 2: Eb/No = 15?\n",
    "- Prova do tipo 3: Eb/No = 10?\n",
    "- Prova do tipo 4: Eb/No = 5?"
   ]
  },
  {
   "cell_type": "code",
   "execution_count": 18,
   "metadata": {},
   "outputs": [
    {
     "name": "stdout",
     "output_type": "stream",
     "text": [
      "Prova1\n",
      "Para EbNo = 17\n",
      " Sinais antipodais: P_e = 2.7556e-09\n",
      " Sinais antipodais: P_e = 6.759e-24 dB (não correto)\n",
      " Sinais ortogonais: P_e = 1.869e-05 (não correto)\n",
      " Sinais ortogonais: P_e = 7.236e-13 dB (não correto)\n",
      "Prova2\n",
      "Para EbNo = 15\n",
      " Sinais antipodais: P_e = 2.1602e-08\n",
      " Sinais antipodais: P_e = 9.124e-16 dB (não correto)\n",
      " Sinais ortogonais: P_e = 5.3756e-05 (não correto)\n",
      " Sinais ortogonais: P_e = 9.361e-09 dB (não correto)\n",
      "Prova3\n",
      "Para EbNo = 10\n",
      " Sinais antipodais: P_e = 3.8721e-06\n",
      " Sinais antipodais: P_e = 3.8721e-06 dB (não correto)\n",
      " Sinais ortogonais: P_e = 0.0007827 (não correto)\n",
      " Sinais ortogonais: P_e = 0.0007827 dB (não correto)\n",
      "Prova4\n",
      "Para EbNo = 5\n",
      " Sinais antipodais: P_e = 0.0007827\n",
      " Sinais antipodais: P_e = 0.0059539 dB (não correto)\n",
      " Sinais ortogonais: P_e = 0.012674 (não correto)\n",
      " Sinais ortogonais: P_e = 0.037679 dB (não correto)\n"
     ]
    }
   ],
   "source": [
    "clc;clear all;close all;\n",
    "vtEbNo = [17 15 10 5];   % Valor da Eb/No em escala linear\n",
    "for is = 1 : length(vtEbNo)\n",
    "    EbNo = vtEbNo(is);\n",
    "    vtTeoErrorAnti = qfunc(sqrt(2*EbNo));                                                      \n",
    "    vtTeoErrorOrto = qfunc(sqrt(EbNo));\n",
    "    % Se considerou o valor em dB e não em escala linear\n",
    "    vtTeoErrorAntiErrado = qfunc(sqrt(2*10^(EbNo/10)));\n",
    "    vtTeoErrorOrtoErrado = qfunc(sqrt(10^(EbNo/10)));\n",
    "    disp(['Prova' num2str(is)]);    \n",
    "    disp(['Para EbNo = ' num2str(EbNo)]);\n",
    "    disp([' Sinais antipodais: P_e = ' num2str(vtTeoErrorAnti)]);\n",
    "    disp([' Sinais antipodais: P_e = ' num2str(vtTeoErrorAntiErrado) ' dB (não correto)']);\n",
    "    disp([' Sinais ortogonais: P_e = ' num2str(vtTeoErrorOrto) ' (não correto)']);\n",
    "    disp([' Sinais ortogonais: P_e = ' num2str(vtTeoErrorOrtoErrado) ' dB (não correto)']);\n",
    "end    "
   ]
  },
  {
   "cell_type": "markdown",
   "metadata": {},
   "source": [
    "### Questão HD_07:\n",
    "Considerando a **Prática 1: PDFs e CDFs de VAs clássicas do Hands-On 07**, a duração de chamadas de uma operadora telefônica é uma VA com distribuição exponencial de taxa $\\beta$ segundos/chamada. Qual a probabilidade de assinantes fazerem uma chamada com mais de $4$ minutos de duração, quando:\n",
    "- Prova do tipo 1: $\\beta$ = 120?\n",
    "- Prova do tipo 2: $\\beta$ = 60?\n",
    "- Prova do tipo 3: $\\beta$ = 30?\n",
    "- Prova do tipo 4: $\\beta$ = 240?"
   ]
  },
  {
   "cell_type": "code",
   "execution_count": 10,
   "metadata": {},
   "outputs": [
    {
     "name": "stdout",
     "output_type": "stream",
     "text": [
      "Prova 1\n",
      "Para Beta = 120\n",
      " Probabilidade pela área da PDF = 13.5369 %\n",
      " Probabilidade pela integral da fórmula da PDF = 13.5335 %\n",
      "Prova 2\n",
      "Para Beta = 60\n",
      " Probabilidade pela área da PDF = 1.8325 %\n",
      " Probabilidade pela integral da fórmula da PDF = 1.8316 %\n",
      "Prova 3\n",
      "Para Beta = 30\n",
      " Probabilidade pela área da PDF = 0.03358 %\n",
      " Probabilidade pela integral da fórmula da PDF = 0.033546 %\n",
      "Prova 4\n",
      "Para Beta = 240\n",
      " Probabilidade pela área da PDF = 36.7925 %\n",
      " Probabilidade pela integral da fórmula da PDF = 36.7879 %\n"
     ]
    }
   ],
   "source": [
    "clc;clear all;close all;\n",
    "% Pela PDF\n",
    "vtbetamin = [ 120 60 30 240 ]/60; % Convertendo beta para minutos\n",
    "vtlambda = 1./vtbetamin;   %  lambda = 1/beta \n",
    "res = 1e-3;\n",
    "x=4:res:1e5;                            % Eixo x (tão grande quanto queira)\n",
    "for il = 1:length(vtlambda)  \n",
    "    lambda = vtlambda(il);\n",
    "    f=lambda*exp(-lambda*x);          % PDF\n",
    "    % Pelo método discreto da PDF\n",
    "    prob1 = sum(f)*res*100;         % Calculando a probabilidade de (X>4) \n",
    "    % Pela integral\n",
    "    syms xs fs;\n",
    "    fs = lambda*exp(-lambda*xs);\n",
    "    prob2 = ( 1 - eval(int(fs,0,4)) )*100;\n",
    "    disp(['Prova ' num2str(il)]);\n",
    "    disp(['Para Beta = ' num2str(vtbetamin(il)*60) ]);\n",
    "    disp([' Probabilidade pela área da PDF = ' num2str(prob1) ' %']);\n",
    "    disp([' Probabilidade pela integral da fórmula da PDF = ' num2str(prob2) ' %']);\n",
    "end"
   ]
  },
  {
   "cell_type": "markdown",
   "metadata": {},
   "source": [
    "### Questão HD_05: \n",
    "Considerando a **Prática 2: Recepção AM-DSB (detecção de envoltória) do Hands-On 05**, qual o erro médio quadrático entre a envoltória ideal e a envoltória recuperada quando:\n",
    "- Prova do tipo 1: $\\tau$ = $1,5\\cdot10^{-4}$?\n",
    "- Prova do tipo 2: $\\tau$ = $0,5\\cdot10^{-4}$?\n",
    "- Prova do tipo 3: $\\tau$ = $3,0\\cdot10^{-3}$?\n",
    "- Prova do tipo 4: $\\tau$ = $10^{-3}$?"
   ]
  },
  {
   "cell_type": "code",
   "execution_count": 11,
   "metadata": {},
   "outputs": [
    {
     "name": "stdout",
     "output_type": "stream",
     "text": [
      "Prova 1\n",
      "Para tau = 0.00015\n",
      " Erro médio quadrático = 0.075284\n",
      "Prova 2\n",
      "Para tau = 5e-05\n",
      " Erro médio quadrático = 0.28329\n",
      "Prova 3\n",
      "Para tau = 0.003\n",
      " Erro médio quadrático = 0.37755\n",
      "Prova 4\n",
      "Para tau = 0.001\n",
      " Erro médio quadrático = 0.20157\n"
     ]
    }
   ],
   "source": [
    "clc;clear all;close all;\n",
    "vtTau = [1.5e-4 0.5e-4 3e-3 1e-3];            % Constante de tempo do detector de envelope\n",
    "\n",
    "t = [0:999]*1e-6;                             % Definição do vetor tempo\n",
    "Ts = 1e-6;                                    % Definição do período\n",
    "fc = 10000;                                   % Frequência da portadora\n",
    "fm = 1500;                                    % Frequência do sinal\n",
    "Mu = 0.6;                                     % Índice de modulação\n",
    "x_AMo = (1+Mu*cos(2*pi*fm*t)).*cos(2*pi*fc*t);% Onda Modulada AM-DSB\n",
    "% Envelope ideal do AM-DSB\n",
    "x_envIdeal = abs(1+Mu*cos(2*pi*fm*t));\n",
    "% Detector de envelope.\n",
    "x_AM = x_AMo.*(x_AMo>0);                      % Parte positiva da onda AM\n",
    "x_env = zeros(size(x_AM));                    % Vetor de zeros vetor pra guardar o envelope\n",
    "nSamp = length(x_AM);                         % Número de amostras da onda AM\n",
    "for it = 1: length(vtTau)\n",
    "    tau = vtTau(it);\n",
    "    out = -1;                                 % Saída inicial (temporária)\n",
    "    % Cálculo da saida\n",
    "    for i=1:nSamp,\n",
    "        inp = x_AM(i);\n",
    "        if (inp>=out)                         % Caso 1: x_am(t) > Vc(t) (carga do capacitor)\n",
    "            out = inp;\n",
    "        else                                  % Caso 2: x_am(t) < Vc(t) (descarga do capacitor)\n",
    "            out = out*(1-Ts/tau);\n",
    "        end\n",
    "        x_env(i) = out;\n",
    "    end\n",
    "    % Cálculo do erro médio quadrático\n",
    "    Erro_MSE=(x_envIdeal-x_env).^2;\n",
    "    Erro_MSE=sum(Erro_MSE)/length(Erro_MSE);\n",
    "    disp(['Prova ' num2str(it)]);\n",
    "    disp(['Para tau = ' num2str(tau)]);\n",
    "    disp([' Erro médio quadrático = ' num2str(Erro_MSE)]);\n",
    "end"
   ]
  },
  {
   "cell_type": "markdown",
   "metadata": {},
   "source": [
    "### Questão HD_08:\n",
    "Considerando a **Prática 2: Ruído em comunicações digitais do Hands-On 08**, qual a potência do ruído para uma modulação 8-PSK e:\n",
    "- Prova do tipo 1: Eb/No = 15 dB?\n",
    "- Prova do tipo 2: Eb/No = 5 dB?\n",
    "- Prova do tipo 3: Eb/No = 20 dB?\n",
    "- Prova do tipo 4: Eb/No = 10 dB?"
   ]
  },
  {
   "cell_type": "code",
   "execution_count": 12,
   "metadata": {
    "scrolled": false
   },
   "outputs": [
    {
     "name": "stdout",
     "output_type": "stream",
     "text": [
      "Prova1\n",
      "Para EbNo = 15 dB\n",
      "  Pn 8-PSK = -27.0412 dB\n",
      "  Pn 8-PSK = 2.9588 dBm\n",
      "  Pn 8-PSK = 0.0019764 (linear)\n",
      "Prova2\n",
      "Para EbNo = 5 dB\n",
      "  Pn 8-PSK = -17.0412 dB\n",
      "  Pn 8-PSK = 12.9588 dBm\n",
      "  Pn 8-PSK = 0.019764 (linear)\n",
      "Prova3\n",
      "Para EbNo = 20 dB\n",
      "  Pn 8-PSK = -32.0412 dB\n",
      "  Pn 8-PSK = -2.0412 dBm\n",
      "  Pn 8-PSK = 0.000625 (linear)\n",
      "Prova4\n",
      "Para EbNo = 10 dB\n",
      "  Pn 8-PSK = -22.0412 dB\n",
      "  Pn 8-PSK = 7.9588 dBm\n",
      "  Pn 8-PSK = 0.00625 (linear)\n"
     ]
    }
   ],
   "source": [
    "clc;clear all;close all;\n",
    "vtEbN0dB = [15 5 20 10];                 % Eb/N0 em dB\n",
    "M = 8;                                   % M-PSK\n",
    "for ie = 1:length(vtEbN0dB)\n",
    "    EbN0 = 10^(vtEbN0dB(ie)/10);         % Eb/N0 Linear\n",
    "    Pn_8PSK = 1/(2*M*EbN0);          % Potência = Variância\n",
    "    Pn_8PSKdB = 10*log10(Pn_8PSK); \n",
    "    Pn_8PSKdBm = 10*log10(Pn_8PSK/1e-3); \n",
    "    PnBPSK = 1/(2*EbN0);          % Potência = Variância\n",
    "    PnBPSKdB = 10*log10(PnBPSK);\n",
    "    PnBPSKdBm = 10*log10(PnBPSK/1e-3);\n",
    "    disp(['Prova' num2str(ie)]);\n",
    "    disp(['Para EbNo = ' num2str(vtEbN0dB(ie)) ' dB']);\n",
    "    disp(['  Pn 8-PSK = ' num2str(Pn_8PSKdB) ' dB']);\n",
    "    disp(['  Pn 8-PSK = ' num2str(Pn_8PSKdBm) ' dBm']);\n",
    "    disp(['  Pn 8-PSK = ' num2str(Pn_8PSK) ' (linear)']);\n",
    "    %disp(['  Pn BPSK = ' num2str(PnBPSKdB) ' dB']);\n",
    "    %disp(['  Pn BPSK = ' num2str(PnBPSKdBm) ' dBm']);\n",
    "    %disp(['  Pn BPSK = ' num2str(PnBPSK) ' (linear)']);\n",
    "    \n",
    "end"
   ]
  }
 ],
 "metadata": {
  "kernelspec": {
   "display_name": "Matlab",
   "language": "matlab",
   "name": "matlab"
  },
  "language_info": {
   "codemirror_mode": "octave",
   "file_extension": ".m",
   "help_links": [
    {
     "text": "MetaKernel Magics",
     "url": "https://github.com/calysto/metakernel/blob/master/metakernel/magics/README.md"
    }
   ],
   "mimetype": "text/x-matlab",
   "name": "matlab",
   "version": "0.14.3"
  }
 },
 "nbformat": 4,
 "nbformat_minor": 2
}
